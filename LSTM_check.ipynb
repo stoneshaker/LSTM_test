{
 "cells": [
  {
   "cell_type": "code",
   "execution_count": 1,
   "id": "8d6c0a56-ecf0-44f2-a2c9-68607e30eb51",
   "metadata": {},
   "outputs": [],
   "source": [
    "import pandas as pd\n",
    "import numpy as np\n",
    "from keras import layers\n",
    "from keras import models\n",
    "\n",
    "count = 0\n",
    "X_train = []\n",
    "y_train = []\n",
    "dataVelTruth   = pd.read_csv('.\\\\data\\\\dataVelTruth.csv', sep=',', header=0)\n",
    "dataVelDrift   = pd.read_csv('.\\\\data\\\\dataVelDrift.csv', sep=',', header=0)\n",
    "dataAccelTruth = pd.read_csv('.\\\\data\\\\dataAccelTruth.csv', sep=',', header=0)\n",
    "dataAccelDrift = pd.read_csv('.\\\\data\\\\dataAccelDrift.csv', sep=',', header=0)\n",
    "data = dataVelTruth\n",
    "#data = dataVelDrift\n",
    "#data = dataAccelTruth\n",
    "#data = dataAccelDrift"
   ]
  },
  {
   "cell_type": "code",
   "execution_count": 9,
   "id": "f0213050-b466-4846-92d8-7bff86a52f5a",
   "metadata": {},
   "outputs": [
    {
     "name": "stdout",
     "output_type": "stream",
     "text": [
      "       Time  Velocity  True Position\n",
      "0     0.000         1          5.000\n",
      "1     0.001         1          5.001\n",
      "2     0.002         1          5.002\n",
      "3     0.003         1          5.003\n",
      "4     0.004         1          5.004\n",
      "...     ...       ...            ...\n",
      "996   0.996         1          5.996\n",
      "997   0.997         1          5.997\n",
      "998   0.998         1          5.998\n",
      "999   0.999         1          5.999\n",
      "1000  1.000         1          6.000\n",
      "\n",
      "[1001 rows x 3 columns]\n",
      "<class 'pandas.core.frame.DataFrame'>\n",
      "[[1.001 1.   ]\n",
      " [1.005 1.   ]\n",
      " [1.1   1.   ]]\n",
      "2\n"
     ]
    }
   ],
   "source": [
    "print(data)\n",
    "activation_type = 'linear'\n",
    "#X = np.zeros(1,(len(data)))\n",
    "#y = np.zeros(1,(len(data)))\n",
    "\n",
    "print(type(data))\n",
    "#X = np.array(data['Time'].values.tolist())\n",
    "y = np.array(data['True Position'].values.tolist())\n",
    "#print(X)\n",
    "#print(X[0:5])\n",
    "#print(type(X))\n",
    "#print(y[-1])\n",
    "#X_predict = np.array([1.001,1.005,1.1])\n",
    "X_predict = np.ndarray(shape=(3,2))#,buffer=[1.001,1],[1.005,1],[1.1,1])\n",
    "X_predict[0,:] = [1.001,1]\n",
    "X_predict[1,:] = [1.005,1]\n",
    "X_predict[2,:] = [1.1,1]\n",
    "print(X_predict)\n",
    "print(X_predict.shape[1])"
   ]
  },
  {
   "cell_type": "code",
   "execution_count": 4,
   "id": "3d2eec97-94d5-4456-82c3-06635897650c",
   "metadata": {},
   "outputs": [
    {
     "name": "stdout",
     "output_type": "stream",
     "text": [
      "[0.    0.001 0.002 ... 0.998 0.999 1.   ]\n"
     ]
    }
   ],
   "source": [
    "#print(np.shape(X))\n",
    "#for i in range(len(y)):\n",
    "#    X_train.append(X[i,:])\n",
    "#    y_train.append(y[i])\n",
    "#d = {data['Time']}\n",
    "#print(d)\n",
    "print(data.loc[:,'Time'].values)"
   ]
  },
  {
   "cell_type": "code",
   "execution_count": 23,
   "id": "8bc2f941-9e9b-47ea-8b2a-78f174736d27",
   "metadata": {},
   "outputs": [
    {
     "name": "stdout",
     "output_type": "stream",
     "text": [
      "Double check (1001, 2)\n",
      "Double check <class 'numpy.ndarray'>\n",
      "[[0.    1.   ]\n",
      " [0.001 1.   ]\n",
      " [0.002 1.   ]\n",
      " ...\n",
      " [0.998 1.   ]\n",
      " [0.999 1.   ]\n",
      " [1.    1.   ]]\n"
     ]
    }
   ],
   "source": [
    "XX_train = []\n",
    "XX_train = [data.loc[:,\"Time\"].values,data.loc[:,\"Velocity\"].values]\n",
    "#XX_train = [data.loc[:,\"Time\"].values,data.loc[:,\"Estimated Velocity\"].values]\n",
    "yy_train = data.loc[:,[\"True Position\"]].values\n",
    "X_train, y_train = np.transpose(np.array(XX_train)), np.transpose(np.array(yy_train))\n",
    "#X_train = np.transpose(X_train)\n",
    "print('Double check',X_train.shape)\n",
    "print('Double check',type(X_train))\n",
    "print(X_train)"
   ]
  },
  {
   "cell_type": "code",
   "execution_count": 22,
   "id": "235f4e0b-5ec7-4b89-bcda-56dee28b0e4a",
   "metadata": {},
   "outputs": [
    {
     "name": "stdout",
     "output_type": "stream",
     "text": [
      "Triple check (1001, 2)\n"
     ]
    }
   ],
   "source": [
    "# define model\n",
    "model = models.Sequential()\n",
    "#model.add(layers.Input(shape=[(np.shape(XX_train[1]),np.shape(XX_train[0]))))\n",
    "model.add(layers.Input(shape=X_train.shape))\n",
    "#model.add(layers.Dense(1000, activation=activation_type))\n",
    "model.add(layers.Dense(100, activation=activation_type))\n",
    "model.add(layers.Dense(10, activation=activation_type))\n",
    "model.add(layers.Dense(3, activation=activation_type))\n",
    "model.add(layers.Dense(1))\n",
    "model.compile(optimizer='adam', loss='mse')\n",
    "# fit model\n",
    "#X_train = np.reshape(X_train, (np.shape(X_train[0]), np.shape(X_train[1]), 1))\n",
    "print('Triple check',np.shape(X_train))"
   ]
  },
  {
   "cell_type": "code",
   "execution_count": 24,
   "id": "764fffa5-a34c-4d5c-9cf4-88fd1242817f",
   "metadata": {},
   "outputs": [
    {
     "ename": "ValueError",
     "evalue": "Exception encountered when calling Sequential.call().\n\n\u001b[1mInvalid input shape for input Tensor(\"data:0\", shape=(None, 2), dtype=float32). Expected shape (None, 1001, 2), but input has incompatible shape (None, 2)\u001b[0m\n\nArguments received by Sequential.call():\n  • inputs=tf.Tensor(shape=(None, 2), dtype=float32)\n  • training=True\n  • mask=None",
     "output_type": "error",
     "traceback": [
      "\u001b[31m---------------------------------------------------------------------------\u001b[39m",
      "\u001b[31mValueError\u001b[39m                                Traceback (most recent call last)",
      "\u001b[36mCell\u001b[39m\u001b[36m \u001b[39m\u001b[32mIn[24]\u001b[39m\u001b[32m, line 1\u001b[39m\n\u001b[32m----> \u001b[39m\u001b[32m1\u001b[39m \u001b[43mmodel\u001b[49m\u001b[43m.\u001b[49m\u001b[43mfit\u001b[49m\u001b[43m(\u001b[49m\u001b[43mX_train\u001b[49m\u001b[43m,\u001b[49m\u001b[43m \u001b[49m\u001b[43myy_train\u001b[49m\u001b[43m,\u001b[49m\u001b[43m \u001b[49m\u001b[43mepochs\u001b[49m\u001b[43m=\u001b[49m\u001b[32;43m500\u001b[39;49m\u001b[43m,\u001b[49m\u001b[43m \u001b[49m\u001b[43mverbose\u001b[49m\u001b[43m=\u001b[49m\u001b[32;43m0\u001b[39;49m\u001b[43m)\u001b[49m\n\u001b[32m      2\u001b[39m \u001b[38;5;66;03m# demonstrate prediction\u001b[39;00m\n",
      "\u001b[36mFile \u001b[39m\u001b[32m~\\source\\time-f\\Lib\\site-packages\\keras\\src\\utils\\traceback_utils.py:122\u001b[39m, in \u001b[36mfilter_traceback.<locals>.error_handler\u001b[39m\u001b[34m(*args, **kwargs)\u001b[39m\n\u001b[32m    119\u001b[39m     filtered_tb = _process_traceback_frames(e.__traceback__)\n\u001b[32m    120\u001b[39m     \u001b[38;5;66;03m# To get the full stack trace, call:\u001b[39;00m\n\u001b[32m    121\u001b[39m     \u001b[38;5;66;03m# `keras.config.disable_traceback_filtering()`\u001b[39;00m\n\u001b[32m--> \u001b[39m\u001b[32m122\u001b[39m     \u001b[38;5;28;01mraise\u001b[39;00m e.with_traceback(filtered_tb) \u001b[38;5;28;01mfrom\u001b[39;00m\u001b[38;5;250m \u001b[39m\u001b[38;5;28;01mNone\u001b[39;00m\n\u001b[32m    123\u001b[39m \u001b[38;5;28;01mfinally\u001b[39;00m:\n\u001b[32m    124\u001b[39m     \u001b[38;5;28;01mdel\u001b[39;00m filtered_tb\n",
      "\u001b[36mFile \u001b[39m\u001b[32m~\\source\\time-f\\Lib\\site-packages\\keras\\src\\models\\functional.py:273\u001b[39m, in \u001b[36mFunctional._adjust_input_rank\u001b[39m\u001b[34m(self, flat_inputs)\u001b[39m\n\u001b[32m    271\u001b[39m             adjusted.append(ops.expand_dims(x, axis=-\u001b[32m1\u001b[39m))\n\u001b[32m    272\u001b[39m             \u001b[38;5;28;01mcontinue\u001b[39;00m\n\u001b[32m--> \u001b[39m\u001b[32m273\u001b[39m     \u001b[38;5;28;01mraise\u001b[39;00m \u001b[38;5;167;01mValueError\u001b[39;00m(\n\u001b[32m    274\u001b[39m         \u001b[33mf\u001b[39m\u001b[33m\"\u001b[39m\u001b[33mInvalid input shape for input \u001b[39m\u001b[38;5;132;01m{\u001b[39;00mx\u001b[38;5;132;01m}\u001b[39;00m\u001b[33m. Expected shape \u001b[39m\u001b[33m\"\u001b[39m\n\u001b[32m    275\u001b[39m         \u001b[33mf\u001b[39m\u001b[33m\"\u001b[39m\u001b[38;5;132;01m{\u001b[39;00mref_shape\u001b[38;5;132;01m}\u001b[39;00m\u001b[33m, but input has incompatible shape \u001b[39m\u001b[38;5;132;01m{\u001b[39;00mx.shape\u001b[38;5;132;01m}\u001b[39;00m\u001b[33m\"\u001b[39m\n\u001b[32m    276\u001b[39m     )\n\u001b[32m    277\u001b[39m \u001b[38;5;66;03m# Add back metadata.\u001b[39;00m\n\u001b[32m    278\u001b[39m \u001b[38;5;28;01mfor\u001b[39;00m i \u001b[38;5;129;01min\u001b[39;00m \u001b[38;5;28mrange\u001b[39m(\u001b[38;5;28mlen\u001b[39m(flat_inputs)):\n",
      "\u001b[31mValueError\u001b[39m: Exception encountered when calling Sequential.call().\n\n\u001b[1mInvalid input shape for input Tensor(\"data:0\", shape=(None, 2), dtype=float32). Expected shape (None, 1001, 2), but input has incompatible shape (None, 2)\u001b[0m\n\nArguments received by Sequential.call():\n  • inputs=tf.Tensor(shape=(None, 2), dtype=float32)\n  • training=True\n  • mask=None"
     ]
    }
   ],
   "source": [
    "model.fit(X_train, yy_train, epochs=500, verbose=0)\n",
    "# demonstrate prediction"
   ]
  },
  {
   "cell_type": "code",
   "execution_count": 24,
   "id": "28774a72-8641-498e-b83a-14f17c60f80f",
   "metadata": {},
   "outputs": [
    {
     "name": "stdout",
     "output_type": "stream",
     "text": [
      "[[6.0009985]\n",
      " [6.005    ]\n",
      " [6.0999985]]\n"
     ]
    }
   ],
   "source": [
    "yhat = model.predict(X_predict, verbose=0)\n",
    "print(yhat)"
   ]
  },
  {
   "cell_type": "code",
   "execution_count": null,
   "id": "da9cab7d-8fa5-4800-80ce-2fa819801081",
   "metadata": {},
   "outputs": [],
   "source": []
  },
  {
   "cell_type": "code",
   "execution_count": null,
   "id": "4feca416-c3ed-4668-b7f6-b4b410b08523",
   "metadata": {},
   "outputs": [],
   "source": []
  }
 ],
 "metadata": {
  "kernelspec": {
   "display_name": "time-f",
   "language": "python",
   "name": "time-f"
  },
  "language_info": {
   "codemirror_mode": {
    "name": "ipython",
    "version": 3
   },
   "file_extension": ".py",
   "mimetype": "text/x-python",
   "name": "python",
   "nbconvert_exporter": "python",
   "pygments_lexer": "ipython3",
   "version": "3.12.0"
  }
 },
 "nbformat": 4,
 "nbformat_minor": 5
}
